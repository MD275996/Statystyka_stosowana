{
 "cells": [
  {
   "cell_type": "markdown",
   "metadata": {},
   "source": [
    "### Zad 1"
   ]
  },
  {
   "cell_type": "code",
   "execution_count": null,
   "metadata": {},
   "outputs": [],
   "source": [
    "import numpy as np\n",
    "import matplotlib.pyplot as plt\n",
    "import seaborn as sb\n",
    "import scipy.stats as sps"
   ]
  },
  {
   "cell_type": "code",
   "execution_count": null,
   "metadata": {},
   "outputs": [],
   "source": [
    "def f(mi,sigma,n,m):\n",
    "    estims = np.zeros(m)\n",
    "\n",
    "    for i in range(m):\n",
    "        data = np.random.lognormal(mi,sigma,n)\n",
    "        mean = sum(data)/n\n",
    "        estims[i] = mean\n",
    "    return estims"
   ]
  },
  {
   "cell_type": "code",
   "execution_count": null,
   "metadata": {},
   "outputs": [],
   "source": [
    "#1\n",
    "mi = 1\n",
    "sigma = 0.5\n",
    "n = 1000\n",
    "m = 1000\n",
    "\n",
    "estims = f(mi,sigma,n,m)\n",
    "\n",
    "print(\"empiryczna:\",np.mean(estims))\n",
    "print(\"teoretyczna:\",np.exp((sigma**2)/2+mi))\n",
    "print(\"empiryczna:\",np.power(np.std(estims),2))\n",
    "print(\"teoretyczna:\" ,np.exp(2*mi+np.power(sigma,2))*(np.exp(np.power(sigma,2))-1)/m)\n",
    "plt.boxplot(estims)\n",
    "plt.plot(np.linspace(0,2,n),(np.exp((sigma**2)/2+mi)*np.ones(n)))"
   ]
  },
  {
   "cell_type": "code",
   "execution_count": null,
   "metadata": {},
   "outputs": [],
   "source": [
    "mi = 1\n",
    "sigma = 1\n",
    "n = 1000\n",
    "m = 1000\n",
    "\n",
    "estims = f(mi,sigma,n,m)\n",
    "print(\"empiryczna:\",np.mean(estims))\n",
    "print(\"teoretyczna:\",np.exp((sigma**2)/2+mi))\n",
    "print(\"empiryczna:\",np.power(np.std(estims),2))\n",
    "print(\"teoretyczna:\" ,np.exp(2*mi+np.power(sigma,2))*(np.exp(np.power(sigma,2))-1)/m)\n",
    "plt.boxplot(estims)\n",
    "plt.plot(np.linspace(0,2,n),(np.exp((sigma**2)/2+mi)*np.ones(n)))"
   ]
  },
  {
   "cell_type": "code",
   "execution_count": null,
   "metadata": {},
   "outputs": [],
   "source": [
    "mi = 1\n",
    "sigma = 2\n",
    "n = 1000\n",
    "m = 1000\n",
    "\n",
    "estims = f(mi,sigma,n,m)\n",
    "\n",
    "print(\"empiryczna:\",np.mean(estims))\n",
    "print(\"teoretyczna:\",np.exp((sigma**2)/2+mi))\n",
    "print(\"empiryczna:\",np.power(np.std(estims),2))\n",
    "print(\"teoretyczna:\" ,np.exp(2*mi+np.power(sigma,2))*(np.exp(np.power(sigma,2))-1)/m)\n",
    "plt.boxplot(estims)\n",
    "plt.plot(np.linspace(0,2,n),(np.exp((sigma**2)/2+mi)*np.ones(n)))"
   ]
  },
  {
   "cell_type": "markdown",
   "metadata": {},
   "source": [
    "### Zad 2"
   ]
  },
  {
   "cell_type": "code",
   "execution_count": null,
   "metadata": {},
   "outputs": [],
   "source": [
    "def u_sample_normal(n):\n",
    "    data = np.random.normal(2,1,n)\n",
    "    return max(data)\n",
    "\n",
    "def u_sample_lognormal(n):\n",
    "    data = np.random.lognormal(2,1,n)\n",
    "    return max(data)\n",
    "\n",
    "def u_sample_pareto(n):\n",
    "    data = np.random.pareto(2,n)\n",
    "    return max(data)\n",
    "\n",
    "\n",
    "n=1000\n",
    "u1_samples = np.zeros(n)\n",
    "u2_samples = np.zeros(n)\n",
    "u3_samples = np.zeros(n)\n",
    "for i in range(n):\n",
    "    u1_samples[i] = u_sample_normal(n)\n",
    "    u2_samples[i] = u_sample_lognormal(n)\n",
    "    u3_samples[i] = u_sample_pareto(n)\n",
    "\n",
    "#dokończyc\n",
    "\n",
    "\n",
    "\n"
   ]
  },
  {
   "cell_type": "code",
   "execution_count": null,
   "metadata": {},
   "outputs": [],
   "source": [
    "sb.histplot(u_samples,stat=\"density\")"
   ]
  },
  {
   "cell_type": "markdown",
   "metadata": {},
   "source": [
    "### Zad 6\n",
    "$$\n",
    "F(t) = 1-t^{-\\alpha}x_0^{\\alpha}\\\\\n",
    "\\\\\n",
    "1-t^{-\\alpha}x_0^{\\alpha} = y \\\\\n",
    "\\\\\n",
    "t^{-\\alpha}x_0^{\\alpha} = -y + 1 \\\\\n",
    "\\\\\n",
    "t^{-\\alpha} = \\frac{-y + 1}{x_0^{\\alpha}}\\\\\n",
    "\\\\\n",
    "\n",
    "t = (\\frac{-y + 1}{x_0^{\\alpha}})^{-\\frac{1}{\\alpha}}\n",
    "\n",
    "$$"
   ]
  },
  {
   "cell_type": "code",
   "execution_count": null,
   "metadata": {},
   "outputs": [],
   "source": [
    "x_0 = 2\n",
    "alpha = 5\n",
    "\n",
    "def gen_pareto(x_0, alpha):\n",
    "    u = np.random.random()\n",
    "    return np.power(u,-1/alpha)*x_0\n",
    "\n",
    "def estimate(data):\n",
    "    n = len(data)\n",
    "    x_hat = min(data)\n",
    "    suma = 0\n",
    "    for i in range(n):\n",
    "        suma += np.log(data[i])\n",
    "    alpha_hat = n/(suma - n*np.log(x_hat))\n",
    "    return x_hat, alpha_hat\n"
   ]
  },
  {
   "cell_type": "code",
   "execution_count": null,
   "metadata": {},
   "outputs": [],
   "source": [
    "n = 1000\n",
    "x_hat_data = np.zeros(n)\n",
    "alpha_hat_data = np.zeros(n)\n",
    "for i in range(n):\n",
    "    data = np.zeros(n)\n",
    "    for j in range(n):\n",
    "        data[j] = gen_pareto(x_0,alpha)\n",
    "    x_hat_data[i], alpha_hat_data[i] = estimate(data)"
   ]
  },
  {
   "cell_type": "code",
   "execution_count": null,
   "metadata": {},
   "outputs": [],
   "source": [
    "plt.boxplot(x_hat_data)"
   ]
  },
  {
   "cell_type": "code",
   "execution_count": null,
   "metadata": {},
   "outputs": [],
   "source": [
    "plt.boxplot(alpha_hat_data)"
   ]
  },
  {
   "cell_type": "markdown",
   "metadata": {},
   "source": [
    "### zad 7"
   ]
  },
  {
   "cell_type": "code",
   "execution_count": null,
   "metadata": {},
   "outputs": [],
   "source": [
    "def gen_y(theta):\n",
    "    u = np.random.random()\n",
    "    return theta - np.log(u)"
   ]
  }
 ],
 "metadata": {
  "kernelspec": {
   "display_name": "Python 3",
   "language": "python",
   "name": "python3"
  },
  "language_info": {
   "codemirror_mode": {
    "name": "ipython",
    "version": 3
   },
   "file_extension": ".py",
   "mimetype": "text/x-python",
   "name": "python",
   "nbconvert_exporter": "python",
   "pygments_lexer": "ipython3",
   "version": "3.12.2"
  }
 },
 "nbformat": 4,
 "nbformat_minor": 2
}

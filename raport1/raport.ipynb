{
 "cells": [
  {
   "cell_type": "markdown",
   "metadata": {},
   "source": [
    "link do latexa: https://www.overleaf.com/project/662773182aeed9d197f681d5 \n",
    "\n",
    "link do danych: https://vincentarelbundock.github.io/Rdatasets/datasets.html \"House Prices in the City of Windsor, Canada\""
   ]
  },
  {
   "cell_type": "code",
   "execution_count": 57,
   "metadata": {},
   "outputs": [],
   "source": [
    "import numpy as np\n",
    "import pandas as pd"
   ]
  },
  {
   "cell_type": "code",
   "execution_count": 73,
   "metadata": {},
   "outputs": [],
   "source": [
    "#pobieranie danych\n",
    "df = pd.read_csv('olive.csv')\n",
    "\n",
    "#wybieramy tylko te dane które nas interesują\n",
    "df = df[[\"area\",\"oleic\",\"linoleic\"]]      #podwójne nawiasy oznacza dataset\n",
    "\n",
    "#możemy podzielić obserwacje na podgrupy ze względu na części włoch i region\n",
    "areas = df[\"area\"].unique()"
   ]
  },
  {
   "cell_type": "code",
   "execution_count": 74,
   "metadata": {},
   "outputs": [
    {
     "name": "stdout",
     "output_type": "stream",
     "text": [
      "North-Apulia\n",
      "25\n",
      "Calabria\n",
      "56\n",
      "South-Apulia\n",
      "206\n",
      "Sicily\n",
      "36\n",
      "Inland-Sardinia\n",
      "65\n",
      "Coast-Sardinia\n",
      "33\n",
      "Umbria\n",
      "51\n",
      "East-Liguria\n",
      "50\n",
      "West-Liguria\n",
      "50\n"
     ]
    }
   ],
   "source": [
    "# ile jest pomiarów dla każdego regionu?\n",
    "for el in areas:\n",
    "    print(el)\n",
    "    print(len(df[df.area == el]))"
   ]
  },
  {
   "cell_type": "code",
   "execution_count": 75,
   "metadata": {},
   "outputs": [
    {
     "name": "stdout",
     "output_type": "stream",
     "text": [
      "             area  oleic  linoleic\n",
      "522  West-Liguria   73.4      10.2\n",
      "523  West-Liguria   75.5      10.0\n",
      "524  West-Liguria   75.3      10.3\n",
      "525  West-Liguria   76.0       9.9\n",
      "526  West-Liguria   74.8      10.5\n",
      "527  West-Liguria   76.8       8.3\n",
      "528  West-Liguria   76.2       8.8\n",
      "529  West-Liguria   77.4       9.0\n",
      "530  West-Liguria   75.3       9.7\n",
      "531  West-Liguria   77.6       9.8\n",
      "532  West-Liguria   76.0       9.9\n",
      "533  West-Liguria   76.1       8.5\n",
      "534  West-Liguria   75.9       8.6\n",
      "535  West-Liguria   77.2       9.1\n",
      "536  West-Liguria   75.4      10.4\n",
      "537  West-Liguria   78.1       9.4\n",
      "538  West-Liguria   77.8       9.3\n",
      "539  West-Liguria   76.0      10.1\n",
      "540  West-Liguria   76.1       7.3\n",
      "541  West-Liguria   78.5       6.9\n",
      "542  West-Liguria   76.2       9.6\n",
      "543  West-Liguria   77.0      10.2\n",
      "544  West-Liguria   74.5      10.1\n",
      "545  West-Liguria   76.9       8.5\n",
      "546  West-Liguria   76.3      10.3\n",
      "547  West-Liguria   76.3       9.4\n",
      "548  West-Liguria   77.8       8.2\n",
      "549  West-Liguria   78.1       8.1\n",
      "550  West-Liguria   76.2       9.2\n",
      "551  West-Liguria   76.2      10.1\n",
      "552  West-Liguria   76.1       9.3\n",
      "553  West-Liguria   77.2       9.1\n",
      "554  West-Liguria   77.1       9.0\n",
      "555  West-Liguria   78.2       8.3\n",
      "556  West-Liguria   78.1       8.4\n",
      "557  West-Liguria   77.1       9.1\n",
      "558  West-Liguria   78.0       8.5\n",
      "559  West-Liguria   76.5       8.3\n",
      "560  West-Liguria   77.1       8.0\n",
      "561  West-Liguria   76.3       7.7\n",
      "562  West-Liguria   78.2       7.6\n",
      "563  West-Liguria   77.2       8.1\n",
      "564  West-Liguria   78.1       7.5\n",
      "565  West-Liguria   77.2       9.5\n",
      "566  West-Liguria   77.3       8.7\n",
      "567  West-Liguria   74.9       7.9\n",
      "568  West-Liguria   77.4       8.1\n",
      "569  West-Liguria   77.2       9.7\n",
      "570  West-Liguria   77.5       8.7\n",
      "571  West-Liguria   79.5       7.4\n"
     ]
    }
   ],
   "source": [
    "print(df[df.area == \"West-Liguria\"])"
   ]
  },
  {
   "cell_type": "code",
   "execution_count": 76,
   "metadata": {},
   "outputs": [
    {
     "name": "stdout",
     "output_type": "stream",
     "text": [
      "             area  oleic  linoleic\n",
      "472  East-Liguria   75.5       6.7\n",
      "473  East-Liguria   76.9       7.2\n",
      "474  East-Liguria   76.8       7.6\n",
      "475  East-Liguria   77.2       7.3\n",
      "476  East-Liguria   76.5       7.5\n",
      "477  East-Liguria   77.7       6.9\n",
      "478  East-Liguria   79.9       5.8\n",
      "479  East-Liguria   76.1       7.6\n",
      "480  East-Liguria   75.2       8.0\n",
      "481  East-Liguria   75.6       7.8\n",
      "482  East-Liguria   75.4       7.7\n",
      "483  East-Liguria   75.2       8.2\n",
      "484  East-Liguria   75.8       7.9\n",
      "485  East-Liguria   76.2       7.8\n",
      "486  East-Liguria   77.1       7.5\n",
      "487  East-Liguria   77.3       7.2\n",
      "488  East-Liguria   77.7       7.1\n",
      "489  East-Liguria   76.8       7.6\n",
      "490  East-Liguria   77.2       6.8\n",
      "491  East-Liguria   78.3       6.7\n",
      "492  East-Liguria   78.6       6.4\n",
      "493  East-Liguria   78.2       6.7\n",
      "494  East-Liguria   79.3       6.3\n",
      "495  East-Liguria   77.8       6.9\n",
      "496  East-Liguria   77.5       6.8\n",
      "497  East-Liguria   76.8       7.3\n",
      "498  East-Liguria   76.7       7.1\n",
      "499  East-Liguria   76.2       7.4\n",
      "500  East-Liguria   77.2       7.3\n",
      "501  East-Liguria   76.9       7.2\n",
      "502  East-Liguria   74.2       8.0\n",
      "503  East-Liguria   75.2       7.6\n",
      "504  East-Liguria   78.9       6.7\n",
      "505  East-Liguria   77.9       6.5\n",
      "506  East-Liguria   78.2       5.9\n",
      "507  East-Liguria   78.9       5.3\n",
      "508  East-Liguria   78.7       5.8\n",
      "509  East-Liguria   77.3       6.3\n",
      "510  East-Liguria   77.1       6.4\n",
      "511  East-Liguria   77.9       6.8\n",
      "512  East-Liguria   78.2       5.9\n",
      "513  East-Liguria   78.8       5.7\n",
      "514  East-Liguria   78.7       5.8\n",
      "515  East-Liguria   77.8       6.5\n",
      "516  East-Liguria   78.0       6.3\n",
      "517  East-Liguria   78.2       6.7\n",
      "518  East-Liguria   78.5       6.2\n",
      "519  East-Liguria   77.6       6.7\n",
      "520  East-Liguria   79.2       6.8\n",
      "521  East-Liguria   84.1       6.5\n"
     ]
    }
   ],
   "source": [
    "print(df[df.area == \"East-Liguria\"])"
   ]
  },
  {
   "cell_type": "markdown",
   "metadata": {},
   "source": [
    "Wybieramy zatem te dwie właściwości dla oliwek z wchodniej i zachodniej ligurii"
   ]
  },
  {
   "cell_type": "code",
   "execution_count": 56,
   "metadata": {},
   "outputs": [],
   "source": [
    "df_east = df[df.area == \"East-Liguria\"]\n",
    "df_west = df[df.area == \"West-Liguria\"]"
   ]
  }
 ],
 "metadata": {
  "kernelspec": {
   "display_name": "Python 3",
   "language": "python",
   "name": "python3"
  },
  "language_info": {
   "codemirror_mode": {
    "name": "ipython",
    "version": 3
   },
   "file_extension": ".py",
   "mimetype": "text/x-python",
   "name": "python",
   "nbconvert_exporter": "python",
   "pygments_lexer": "ipython3",
   "version": "3.12.2"
  }
 },
 "nbformat": 4,
 "nbformat_minor": 2
}
